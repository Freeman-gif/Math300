{
 "cells": [
  {
   "cell_type": "markdown",
   "id": "conditional-removal",
   "metadata": {
    "pycharm": {
     "name": "#%% md\n"
    }
   },
   "source": [
    "# HW3"
   ]
  },
  {
   "cell_type": "markdown",
   "id": "e2c59c23",
   "metadata": {
    "pycharm": {
     "name": "#%% md\n"
    }
   },
   "source": [
    "### package:"
   ]
  },
  {
   "cell_type": "code",
   "execution_count": 3,
   "id": "db9b45e0",
   "metadata": {
    "pycharm": {
     "name": "#%%\n"
    }
   },
   "outputs": [],
   "source": [
    "# import SymPy, SciPy, and NumPy\n",
    "import scipy as sp\n",
    "import  sympy as sy\n",
    "import numpy as np\n",
    "\n",
    "\n"
   ]
  },
  {
   "cell_type": "markdown",
   "id": "b12aec96",
   "metadata": {
    "pycharm": {
     "name": "#%% md\n"
    }
   },
   "source": [
    "## Problem1"
   ]
  },
  {
   "cell_type": "markdown",
   "id": "0311d609",
   "metadata": {
    "pycharm": {
     "name": "#%% md\n"
    }
   },
   "source": [
    "###### import linalg from scipy"
   ]
  },
  {
   "cell_type": "code",
   "execution_count": 4,
   "id": "eb8ea6c2",
   "metadata": {
    "pycharm": {
     "name": "#%%\n"
    }
   },
   "outputs": [],
   "source": [
    "from scipy import linalg"
   ]
  },
  {
   "cell_type": "markdown",
   "id": "7c0c27e9",
   "metadata": {
    "pycharm": {
     "name": "#%% md\n"
    }
   },
   "source": [
    "###### Declaring the numpy arrays"
   ]
  },
  {
   "cell_type": "code",
   "execution_count": 5,
   "id": "08ed8d04",
   "metadata": {
    "pycharm": {
     "name": "#%%\n"
    }
   },
   "outputs": [],
   "source": [
    "a = np.array([[1,2],[3,4]])\n",
    "b = np.array([[5],[8]])"
   ]
  },
  {
   "cell_type": "markdown",
   "id": "3834a593",
   "metadata": {
    "pycharm": {
     "name": "#%% md\n"
    }
   },
   "source": [
    "###### Passing the values to the solve function"
   ]
  },
  {
   "cell_type": "code",
   "execution_count": 6,
   "id": "e52a71fc",
   "metadata": {
    "pycharm": {
     "name": "#%%\n"
    }
   },
   "outputs": [
    {
     "data": {
      "text/plain": "array([[-2. ],\n       [ 3.5]])"
     },
     "execution_count": 6,
     "metadata": {},
     "output_type": "execute_result"
    }
   ],
   "source": [
    "x = linalg.solve(a, b)\n",
    "\n",
    "x"
   ]
  },
  {
   "cell_type": "markdown",
   "id": "removable-movement",
   "metadata": {
    "pycharm": {
     "name": "#%% md\n"
    }
   },
   "source": [
    "## Problem2"
   ]
  },
  {
   "cell_type": "code",
   "execution_count": 5,
   "id": "2c6566f3",
   "metadata": {
    "pycharm": {
     "name": "#%%\n"
    }
   },
   "outputs": [
    {
     "data": {
      "text/plain": "0.6930971830599583"
     },
     "execution_count": 5,
     "metadata": {},
     "output_type": "execute_result"
    }
   ],
   "source": [
    "\n",
    "\n",
    "\n",
    "def f(n):\n",
    "    summation = 0\n",
    "    for i in range (1,n+1):\n",
    "        summation += (-1)**(i+1)*1/(i)\n",
    "    return summation\n",
    "f1 = f(10000)\n",
    "f1\n",
    "\n"
   ]
  },
  {
   "cell_type": "markdown",
   "id": "champion-travel",
   "metadata": {
    "pycharm": {
     "name": "#%% md\n"
    }
   },
   "source": [
    "##### Plot"
   ]
  },
  {
   "cell_type": "code",
   "execution_count": 6,
   "outputs": [
    {
     "data": {
      "text/plain": "<Figure size 432x288 with 1 Axes>",
      "image/png": "[encoded data removed]"
     },
     "metadata": {
      "needs_background": "light"
     },
     "output_type": "display_data"
    },
    {
     "data": {
      "text/plain": "<Figure size 432x288 with 0 Axes>"
     },
     "metadata": {},
     "output_type": "display_data"
    }
   ],
   "source": [
    "import matplotlib.pyplot as plt\n",
    "\n",
    "def f_plot(n):\n",
    "    listn = []  ## create list for store x value\n",
    "    listx = []  ## create list for store y value\n",
    "\n",
    "\n",
    "    for i in range (1,n+1):\n",
    "        x = (-1)**(i+1)*1/(i)\n",
    "        listn.append(i)\n",
    "        listx.append(x)\n",
    "    plt.plot(listn,listx)\n",
    "    plt.show()\n",
    "    plt.savefig('HW3_2_plot')\n",
    "    return\n",
    "f_plot(21508)"
   ],
   "metadata": {
    "collapsed": false,
    "pycharm": {
     "name": "#%%\n"
    }
   }
  },
  {
   "cell_type": "markdown",
   "source": [
    "## Problem3"
   ],
   "metadata": {
    "collapsed": false,
    "pycharm": {
     "name": "#%% md\n"
    }
   }
  },
  {
   "cell_type": "code",
   "execution_count": 7,
   "outputs": [
    {
     "data": {
      "text/plain": "<Figure size 432x288 with 1 Axes>",
      "image/png": "[encoded data removed]"
     },
     "metadata": {
      "needs_background": "light"
     },
     "output_type": "display_data"
    },
    {
     "data": {
      "text/plain": "<Figure size 432x288 with 0 Axes>"
     },
     "metadata": {},
     "output_type": "display_data"
    }
   ],
   "source": [
    "def sum2(N, x =[]):\n",
    "    x_total = []\n",
    "    for k in range(len(x)):\n",
    "        sum = 0\n",
    "        for i in range(1,N+1):\n",
    "            sum += (x[k]**i)/i\n",
    "        x_total.append(sum)\n",
    "    plt.plot(x, x_total)\n",
    "    plt.show()\n",
    "    plt.savefig('HW3_3_plot')\n",
    "sum2(20, range(25))"
   ],
   "metadata": {
    "collapsed": false,
    "pycharm": {
     "name": "#%%\n"
    }
   }
  },
  {
   "cell_type": "markdown",
   "source": [
    "## Problem4"
   ],
   "metadata": {
    "collapsed": false,
    "pycharm": {
     "name": "#%% md\n"
    }
   }
  },
  {
   "cell_type": "code",
   "execution_count": 8,
   "outputs": [
    {
     "data": {
      "text/plain": "31.885210782848322"
     },
     "execution_count": 8,
     "metadata": {},
     "output_type": "execute_result"
    }
   ],
   "source": [
    "import math\n",
    "def f(x):\n",
    "    return math.sqrt(x)\n",
    "\n",
    "def midpoint(f,a = 0,b = 0,n = 40):\n",
    "    summation = 0\n",
    "    h = float(b-a)/n\n",
    "\n",
    "    if n <= 0:\n",
    "        raise ValueError(\"n should be positive\")\n",
    "    else :\n",
    "        for i in range (n):\n",
    "\n",
    "            summation += f((a+h/2))\n",
    "        summation *= h\n",
    "        return summation\n",
    "midpoint(f,10,20,30)"
   ],
   "metadata": {
    "collapsed": false,
    "pycharm": {
     "name": "#%%\n"
    }
   }
  },
  {
   "cell_type": "markdown",
   "source": [
    "## Problem5"
   ],
   "metadata": {
    "collapsed": false,
    "pycharm": {
     "name": "#%% md\n"
    }
   }
  },
  {
   "cell_type": "code",
   "execution_count": 1,
   "outputs": [
    {
     "name": "stdout",
     "output_type": "stream",
     "text": [
      "Expression : x**3 + 3.66666666666667*x**2 - 1 - cos(pi*x)**2/(2*x**2 + 1) \n",
      "\\frac{d}{d x} \\left(x^{3} + 3.66666666666667 x^{2} - 1 - \\frac{\\cos^{2}{\\left(\\pi x \\right)}}{2 x^{2} + 1}\\right)\n",
      "Derivative of expression with respect to x : Derivative(x**3 + 3.66666666666667*x**2 - 1 - cos(pi*x)**2/(2*x**2 + 1), x)\n",
      "Value of the derivative : 3*x**2 + 7.33333333333333*x + 4*x*cos(pi*x)**2/(2*x**2 + 1)**2 + 2*pi*sin(pi*x)*cos(pi*x)/(2*x**2 + 1) \n"
     ]
    }
   ],
   "source": [
    "from sympy import *\n",
    "from sympy import init_printing\n",
    "init_printing(use_unicode=True)\n",
    "x1 = symbols('x')\n",
    "expr = x1 ** 3 - (cos(pi * x1) ** 2) / (2 * x1 ** 2 + 1) + (11 / 3) * x1 ** 2 - 1\n",
    "\n",
    "\n",
    "print(\"Expression : {} \".format(expr))\n",
    "\n",
    "# Use sympy.Derivative() method\n",
    "expr_diff = Derivative(expr, x1)\n",
    "print(latex(expr_diff))\n",
    "print(\"Derivative of expression with respect to x : {}\".format(expr_diff))\n",
    "print(\"Value of the derivative : {} \".format(expr_diff.doit()))\n"
   ],
   "metadata": {
    "collapsed": false,
    "pycharm": {
     "name": "#%%\n"
    }
   }
  },
  {
   "cell_type": "code",
   "execution_count": null,
   "outputs": [],
   "source": [],
   "metadata": {
    "collapsed": false,
    "pycharm": {
     "name": "#%%\n"
    }
   }
  }
 ],
 "metadata": {
  "kernelspec": {
   "display_name": "Python 3",
   "language": "python",
   "name": "python3"
  },
  "language_info": {
   "codemirror_mode": {
    "name": "ipython",
    "version": 3
   },
   "file_extension": ".py",
   "mimetype": "text/x-python",
   "name": "python",
   "nbconvert_exporter": "python",
   "pygments_lexer": "ipython3",
   "version": "3.9.1"
  }
 },
 "nbformat": 4,
 "nbformat_minor": 5
}