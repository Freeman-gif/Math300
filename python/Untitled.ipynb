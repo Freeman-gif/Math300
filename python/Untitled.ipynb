{
 "cells": [
  {
   "cell_type": "markdown",
   "id": "conditional-removal",
   "metadata": {
    "pycharm": {
     "name": "#%% md\n"
    }
   },
   "source": [
    "# HW3"
   ]
  },
  {
   "cell_type": "markdown",
   "id": "e2c59c23",
   "metadata": {},
   "source": [
    "### package:"
   ]
  },
  {
   "cell_type": "code",
   "execution_count": 1,
   "id": "db9b45e0",
   "metadata": {
    "pycharm": {
     "name": "#%%\n"
    }
   },
   "outputs": [],
   "source": [
    "# import SymPy, SciPy, and NumPy\n",
    "import scipy as sp\n",
    "import  sympy as sy\n",
    "import numpy as np\n",
    "\n",
    "\n"
   ]
  },
  {
   "cell_type": "markdown",
   "id": "b12aec96",
   "metadata": {},
   "source": [
    "## Problem1"
   ]
  },
  {
   "cell_type": "markdown",
   "id": "0311d609",
   "metadata": {
    "pycharm": {
     "name": "#%% md\n"
    }
   },
   "source": [
    "###### import linalg from scipy"
   ]
  },
  {
   "cell_type": "code",
   "execution_count": null,
   "id": "eb8ea6c2",
   "metadata": {
    "pycharm": {
     "name": "#%%\n"
    }
   },
   "outputs": [],
   "source": [
    "from scipy import linalg"
   ]
  },
  {
   "cell_type": "markdown",
   "id": "7c0c27e9",
   "metadata": {},
   "source": [
    "###### Declaring the numpy arrays"
   ]
  },
  {
   "cell_type": "code",
   "execution_count": null,
   "id": "08ed8d04",
   "metadata": {
    "pycharm": {
     "name": "#%%\n"
    }
   },
   "outputs": [],
   "source": [
    "a = np.array([[1,2],[3,4]])\n",
    "b = np.array([5,8])"
   ]
  },
  {
   "cell_type": "markdown",
   "id": "3834a593",
   "metadata": {},
   "source": [
    "###### Passing the values to the solve function"
   ]
  },
  {
   "cell_type": "code",
   "execution_count": null,
   "id": "e52a71fc",
   "metadata": {
    "pycharm": {
     "name": "#%%\n"
    }
   },
   "outputs": [],
   "source": [
    "x = linalg.solve(a, b)\n",
    "\n",
    "x"
   ]
  },
  {
   "cell_type": "markdown",
   "id": "removable-movement",
   "metadata": {
    "pycharm": {
     "name": "#%% md\n"
    }
   },
   "source": [
    "## Problem2"
   ]
  },
  {
   "cell_type": "code",
   "execution_count": 6,
   "id": "2c6566f3",
   "metadata": {
    "pycharm": {
     "name": "#%%\n"
    }
   },
   "outputs": [
    {
     "data": {
      "text/plain": [
       "0.5"
      ]
     },
     "execution_count": 6,
     "metadata": {},
     "output_type": "execute_result"
    }
   ],
   "source": [
    "\n",
    "\n",
    "\n",
    "def f(n):\n",
    "    summation = 0\n",
    "    for i in range (1,n+1):\n",
    "        summation += (-1)**(i+1)*1/(i)\n",
    "    return summation\n",
    "f1 = f(2)\n",
    "f1\n",
    "\n"
   ]
  },
  {
   "cell_type": "code",
   "execution_count": null,
   "id": "champion-travel",
   "metadata": {},
   "outputs": [],
   "source": []
  }
 ],
 "metadata": {
  "kernelspec": {
   "display_name": "Python 3",
   "language": "python",
   "name": "python3"
  },
  "language_info": {
   "codemirror_mode": {
    "name": "ipython",
    "version": 3
   },
   "file_extension": ".py",
   "mimetype": "text/x-python",
   "name": "python",
   "nbconvert_exporter": "python",
   "pygments_lexer": "ipython3",
   "version": "3.9.1"
  }
 },
 "nbformat": 4,
 "nbformat_minor": 5
}
